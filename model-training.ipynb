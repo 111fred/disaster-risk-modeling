{
 "cells": [
  {
   "cell_type": "code",
   "execution_count": 1,
   "metadata": {},
   "outputs": [
    {
     "name": "stderr",
     "output_type": "stream",
     "text": [
      "Using TensorFlow backend.\n"
     ]
    }
   ],
   "source": [
    "import keras\n",
    "from keras.models import Sequential\n",
    "from keras.layers import Dense, Dropout, Flatten\n",
    "from keras.layers import Conv2D, MaxPooling2D\n",
    "from keras.utils import to_categorical\n",
    "from keras.preprocessing import image\n",
    "import numpy as np\n",
    "import pandas as pd\n",
    "import matplotlib.pyplot as plt\n",
    "from sklearn.model_selection import train_test_split\n",
    "from tqdm import tqdm\n",
    "%matplotlib inline"
   ]
  },
  {
   "cell_type": "code",
   "execution_count": 3,
   "metadata": {},
   "outputs": [],
   "source": [
    "# metadata\n",
    "sub_df = pd.read_csv('data/submission_format.csv')\n",
    "trn_df = pd.read_csv('data/train_labels.csv')\n",
    "met_df = pd.read_csv('data/metadata.csv')"
   ]
  },
  {
   "cell_type": "code",
   "execution_count": 4,
   "metadata": {},
   "outputs": [
    {
     "data": {
      "text/html": [
       "<div>\n",
       "<style scoped>\n",
       "    .dataframe tbody tr th:only-of-type {\n",
       "        vertical-align: middle;\n",
       "    }\n",
       "\n",
       "    .dataframe tbody tr th {\n",
       "        vertical-align: top;\n",
       "    }\n",
       "\n",
       "    .dataframe thead th {\n",
       "        text-align: right;\n",
       "    }\n",
       "</style>\n",
       "<table border=\"1\" class=\"dataframe\">\n",
       "  <thead>\n",
       "    <tr style=\"text-align: right;\">\n",
       "      <th></th>\n",
       "      <th>id</th>\n",
       "      <th>verified</th>\n",
       "      <th>concrete_cement</th>\n",
       "      <th>healthy_metal</th>\n",
       "      <th>incomplete</th>\n",
       "      <th>irregular_metal</th>\n",
       "      <th>other</th>\n",
       "    </tr>\n",
       "  </thead>\n",
       "  <tbody>\n",
       "    <tr>\n",
       "      <th>0</th>\n",
       "      <td>7a3f2a10</td>\n",
       "      <td>True</td>\n",
       "      <td>1.0</td>\n",
       "      <td>0.0</td>\n",
       "      <td>0.0</td>\n",
       "      <td>0.0</td>\n",
       "      <td>0.0</td>\n",
       "    </tr>\n",
       "    <tr>\n",
       "      <th>1</th>\n",
       "      <td>7a1f731e</td>\n",
       "      <td>True</td>\n",
       "      <td>0.0</td>\n",
       "      <td>0.0</td>\n",
       "      <td>0.0</td>\n",
       "      <td>1.0</td>\n",
       "      <td>0.0</td>\n",
       "    </tr>\n",
       "    <tr>\n",
       "      <th>2</th>\n",
       "      <td>7a424ad8</td>\n",
       "      <td>True</td>\n",
       "      <td>0.0</td>\n",
       "      <td>1.0</td>\n",
       "      <td>0.0</td>\n",
       "      <td>0.0</td>\n",
       "      <td>0.0</td>\n",
       "    </tr>\n",
       "    <tr>\n",
       "      <th>3</th>\n",
       "      <td>7a3edc5e</td>\n",
       "      <td>True</td>\n",
       "      <td>0.0</td>\n",
       "      <td>1.0</td>\n",
       "      <td>0.0</td>\n",
       "      <td>0.0</td>\n",
       "      <td>0.0</td>\n",
       "    </tr>\n",
       "    <tr>\n",
       "      <th>4</th>\n",
       "      <td>7a303a6e</td>\n",
       "      <td>True</td>\n",
       "      <td>0.0</td>\n",
       "      <td>1.0</td>\n",
       "      <td>0.0</td>\n",
       "      <td>0.0</td>\n",
       "      <td>0.0</td>\n",
       "    </tr>\n",
       "  </tbody>\n",
       "</table>\n",
       "</div>"
      ],
      "text/plain": [
       "         id  verified  concrete_cement  healthy_metal  incomplete  \\\n",
       "0  7a3f2a10      True              1.0            0.0         0.0   \n",
       "1  7a1f731e      True              0.0            0.0         0.0   \n",
       "2  7a424ad8      True              0.0            1.0         0.0   \n",
       "3  7a3edc5e      True              0.0            1.0         0.0   \n",
       "4  7a303a6e      True              0.0            1.0         0.0   \n",
       "\n",
       "   irregular_metal  other  \n",
       "0              0.0    0.0  \n",
       "1              1.0    0.0  \n",
       "2              0.0    0.0  \n",
       "3              0.0    0.0  \n",
       "4              0.0    0.0  "
      ]
     },
     "execution_count": 4,
     "metadata": {},
     "output_type": "execute_result"
    }
   ],
   "source": [
    "# train data\n",
    "train = trn_df[0:300]    # sample\n",
    "train.head()      # printing first five rows of the file"
   ]
  },
  {
   "cell_type": "code",
   "execution_count": 5,
   "metadata": {},
   "outputs": [
    {
     "name": "stderr",
     "output_type": "stream",
     "text": [
      "100%|██████████| 300/300 [00:01<00:00, 254.00it/s]\n"
     ]
    }
   ],
   "source": [
    "# get images & pre-process as needed (see other notebook)\n",
    "\n",
    "train_image = []\n",
    "for i in tqdm(range(train.shape[0])):\n",
    "    img = image.load_img('train_images/'+train['id'][i]+'.jpg',target_size=(400,400,3))\n",
    "    img = image.img_to_array(img)\n",
    "    img = img/255\n",
    "    train_image.append(img)\n",
    "X = np.array(train_image)"
   ]
  },
  {
   "cell_type": "code",
   "execution_count": 6,
   "metadata": {},
   "outputs": [
    {
     "data": {
      "text/plain": [
       "(300, 400, 400, 3)"
      ]
     },
     "execution_count": 6,
     "metadata": {},
     "output_type": "execute_result"
    }
   ],
   "source": [
    "X.shape"
   ]
  },
  {
   "cell_type": "code",
   "execution_count": 7,
   "metadata": {},
   "outputs": [
    {
     "data": {
      "text/plain": [
       "<matplotlib.image.AxesImage at 0x7f1e61787048>"
      ]
     },
     "execution_count": 7,
     "metadata": {},
     "output_type": "execute_result"
    },
    {
     "data": {
      "image/png": "[encoded data removed]",
      "text/plain": [
       "<Figure size 432x288 with 1 Axes>"
      ]
     },
     "metadata": {
      "needs_background": "light"
     },
     "output_type": "display_data"
    }
   ],
   "source": [
    "plt.imshow(X[2])"
   ]
  },
  {
   "cell_type": "code",
   "execution_count": 8,
   "metadata": {},
   "outputs": [
    {
     "data": {
      "text/plain": [
       "1.0"
      ]
     },
     "execution_count": 8,
     "metadata": {},
     "output_type": "execute_result"
    }
   ],
   "source": [
    "train['healthy_metal'][2]"
   ]
  },
  {
   "cell_type": "code",
   "execution_count": 9,
   "metadata": {},
   "outputs": [
    {
     "data": {
      "text/plain": [
       "(300, 5)"
      ]
     },
     "execution_count": 9,
     "metadata": {},
     "output_type": "execute_result"
    }
   ],
   "source": [
    "y = np.array(train.drop(['id', 'verified'],axis=1))\n",
    "y.shape"
   ]
  },
  {
   "cell_type": "code",
   "execution_count": 10,
   "metadata": {},
   "outputs": [],
   "source": [
    "# train test split\n",
    "X_train, X_test, y_train, y_test = train_test_split(X, y, random_state=2, test_size=0.1)"
   ]
  },
  {
   "cell_type": "code",
   "execution_count": 20,
   "metadata": {},
   "outputs": [],
   "source": [
    "# model \n",
    "model = Sequential()\n",
    "model.add(Conv2D(filters=16, kernel_size=(5, 5), activation=\"relu\", input_shape=(400,400,3)))\n",
    "model.add(MaxPooling2D(pool_size=(2, 2)))\n",
    "model.add(Dropout(0.25))\n",
    "model.add(Conv2D(filters=32, kernel_size=(5, 5), activation='relu'))\n",
    "model.add(MaxPooling2D(pool_size=(2, 2)))\n",
    "model.add(Dropout(0.25))\n",
    "model.add(Conv2D(filters=64, kernel_size=(5, 5), activation=\"relu\"))\n",
    "model.add(MaxPooling2D(pool_size=(2, 2)))\n",
    "model.add(Dropout(0.25))\n",
    "model.add(Conv2D(filters=64, kernel_size=(5, 5), activation='relu'))\n",
    "model.add(MaxPooling2D(pool_size=(2, 2)))\n",
    "model.add(Dropout(0.25))\n",
    "model.add(Flatten())\n",
    "model.add(Dense(128, activation='relu'))\n",
    "model.add(Dropout(0.5))\n",
    "model.add(Dense(64, activation='relu'))\n",
    "model.add(Dropout(0.5))\n",
    "model.add(Dense(5, activation='sigmoid'))"
   ]
  },
  {
   "cell_type": "code",
   "execution_count": 21,
   "metadata": {},
   "outputs": [
    {
     "name": "stdout",
     "output_type": "stream",
     "text": [
      "Model: \"sequential_3\"\n",
      "_________________________________________________________________\n",
      "Layer (type)                 Output Shape              Param #   \n",
      "=================================================================\n",
      "conv2d_9 (Conv2D)            (None, 396, 396, 16)      1216      \n",
      "_________________________________________________________________\n",
      "max_pooling2d_9 (MaxPooling2 (None, 198, 198, 16)      0         \n",
      "_________________________________________________________________\n",
      "dropout_13 (Dropout)         (None, 198, 198, 16)      0         \n",
      "_________________________________________________________________\n",
      "conv2d_10 (Conv2D)           (None, 194, 194, 32)      12832     \n",
      "_________________________________________________________________\n",
      "max_pooling2d_10 (MaxPooling (None, 97, 97, 32)        0         \n",
      "_________________________________________________________________\n",
      "dropout_14 (Dropout)         (None, 97, 97, 32)        0         \n",
      "_________________________________________________________________\n",
      "conv2d_11 (Conv2D)           (None, 93, 93, 64)        51264     \n",
      "_________________________________________________________________\n",
      "max_pooling2d_11 (MaxPooling (None, 46, 46, 64)        0         \n",
      "_________________________________________________________________\n",
      "dropout_15 (Dropout)         (None, 46, 46, 64)        0         \n",
      "_________________________________________________________________\n",
      "conv2d_12 (Conv2D)           (None, 42, 42, 64)        102464    \n",
      "_________________________________________________________________\n",
      "max_pooling2d_12 (MaxPooling (None, 21, 21, 64)        0         \n",
      "_________________________________________________________________\n",
      "dropout_16 (Dropout)         (None, 21, 21, 64)        0         \n",
      "_________________________________________________________________\n",
      "flatten_3 (Flatten)          (None, 28224)             0         \n",
      "_________________________________________________________________\n",
      "dense_7 (Dense)              (None, 128)               3612800   \n",
      "_________________________________________________________________\n",
      "dropout_17 (Dropout)         (None, 128)               0         \n",
      "_________________________________________________________________\n",
      "dense_8 (Dense)              (None, 64)                8256      \n",
      "_________________________________________________________________\n",
      "dropout_18 (Dropout)         (None, 64)                0         \n",
      "_________________________________________________________________\n",
      "dense_9 (Dense)              (None, 5)                 325       \n",
      "=================================================================\n",
      "Total params: 3,789,157\n",
      "Trainable params: 3,789,157\n",
      "Non-trainable params: 0\n",
      "_________________________________________________________________\n"
     ]
    }
   ],
   "source": [
    "model.summary()"
   ]
  },
  {
   "cell_type": "code",
   "execution_count": 22,
   "metadata": {},
   "outputs": [],
   "source": [
    "model.compile(optimizer='adam', loss='binary_crossentropy', metrics=['accuracy'])"
   ]
  },
  {
   "cell_type": "code",
   "execution_count": 23,
   "metadata": {},
   "outputs": [
    {
     "name": "stdout",
     "output_type": "stream",
     "text": [
      "Train on 270 samples, validate on 30 samples\n",
      "Epoch 1/10\n",
      "270/270 [==============================] - 19s 72ms/step - loss: 0.6072 - accuracy: 0.6726 - val_loss: 0.6163 - val_accuracy: 0.8000\n",
      "Epoch 2/10\n",
      "270/270 [==============================] - 19s 70ms/step - loss: 0.4870 - accuracy: 0.7719 - val_loss: 0.6122 - val_accuracy: 0.8000\n",
      "Epoch 3/10\n",
      "270/270 [==============================] - 19s 69ms/step - loss: 0.4613 - accuracy: 0.7652 - val_loss: 0.5880 - val_accuracy: 0.8000\n",
      "Epoch 4/10\n",
      "270/270 [==============================] - 19s 69ms/step - loss: 0.4685 - accuracy: 0.7652 - val_loss: 0.5280 - val_accuracy: 0.7800\n",
      "Epoch 5/10\n",
      "270/270 [==============================] - 19s 69ms/step - loss: 0.4596 - accuracy: 0.7741 - val_loss: 0.5681 - val_accuracy: 0.8067\n",
      "Epoch 6/10\n",
      "270/270 [==============================] - 19s 69ms/step - loss: 0.4443 - accuracy: 0.7674 - val_loss: 0.5439 - val_accuracy: 0.7933\n",
      "Epoch 7/10\n",
      "270/270 [==============================] - 19s 69ms/step - loss: 0.4299 - accuracy: 0.7748 - val_loss: 0.5610 - val_accuracy: 0.8000\n",
      "Epoch 8/10\n",
      "270/270 [==============================] - 19s 69ms/step - loss: 0.4308 - accuracy: 0.7807 - val_loss: 0.5415 - val_accuracy: 0.8000\n",
      "Epoch 9/10\n",
      "270/270 [==============================] - 19s 69ms/step - loss: 0.4244 - accuracy: 0.7763 - val_loss: 0.5213 - val_accuracy: 0.8000\n",
      "Epoch 10/10\n",
      "270/270 [==============================] - 19s 69ms/step - loss: 0.4128 - accuracy: 0.7993 - val_loss: 0.5317 - val_accuracy: 0.8000\n"
     ]
    }
   ],
   "source": [
    "# train\n",
    "train_log = model.fit(X_train, y_train, epochs=10, validation_data=(X_test, y_test), batch_size=64)"
   ]
  },
  {
   "cell_type": "code",
   "execution_count": 24,
   "metadata": {},
   "outputs": [
    {
     "data": {
      "image/png": "[encoded data removed]",
      "text/plain": [
       "<Figure size 432x288 with 1 Axes>"
      ]
     },
     "metadata": {},
     "output_type": "display_data"
    }
   ],
   "source": [
    "# preprocess val images\n",
    "\n",
    "import matplotlib.pyplot as plt\n",
    "\n",
    "plt.style.use(\"ggplot\")\n",
    "\n",
    "plt.plot(train_log.history[\"loss\"], label=\"loss\")\n",
    "plt.plot(train_log.history[\"val_loss\"], label=\"val_loss\")\n",
    "plt.legend()\n",
    "plt.show()"
   ]
  },
  {
   "cell_type": "code",
   "execution_count": 28,
   "metadata": {},
   "outputs": [
    {
     "name": "stdout",
     "output_type": "stream",
     "text": [
      "NNW Performance on the test set: Loss = 1.4352\n"
     ]
    }
   ],
   "source": [
    "from sklearn.metrics import log_loss\n",
    "\n",
    "# Predict\n",
    "predictions = model.predict(X_test)\n",
    "\n",
    "# Evaluate\n",
    "loss = log_loss(y_test, predictions, normalize=True)\n",
    "\n",
    "# Result\n",
    "print('NNW Performance on the test set: Loss = %0.4f' % loss)"
   ]
  },
  {
   "cell_type": "code",
   "execution_count": 27,
   "metadata": {},
   "outputs": [
    {
     "data": {
      "text/plain": [
       "array([[0.3140381 , 0.4736388 , 0.37269294, 0.4903131 , 0.2801854 ],\n",
       "       [0.33564514, 0.46850964, 0.3889794 , 0.48770952, 0.30696458],\n",
       "       [0.31656346, 0.45699972, 0.3638457 , 0.49705237, 0.27453172],\n",
       "       [0.32254252, 0.46734792, 0.37335956, 0.49431267, 0.28562337],\n",
       "       [0.32119066, 0.4603694 , 0.3675514 , 0.49771106, 0.28086668],\n",
       "       [0.31477758, 0.46685675, 0.3781525 , 0.47963983, 0.28703642],\n",
       "       [0.31838793, 0.46761718, 0.37959075, 0.4825068 , 0.28965616],\n",
       "       [0.3553687 , 0.46676755, 0.40167984, 0.48780882, 0.3283614 ],\n",
       "       [0.34535939, 0.4616363 , 0.3865295 , 0.4965085 , 0.30893755],\n",
       "       [0.28474206, 0.474866  , 0.3623972 , 0.46513337, 0.25526732],\n",
       "       [0.37114793, 0.47127867, 0.4152485 , 0.48445722, 0.34994933],\n",
       "       [0.3514809 , 0.47069076, 0.40298963, 0.47969005, 0.32827407],\n",
       "       [0.31213975, 0.4727782 , 0.37060696, 0.49120212, 0.27760106],\n",
       "       [0.3296403 , 0.47192198, 0.38224483, 0.4919602 , 0.29680803],\n",
       "       [0.30760312, 0.4721382 , 0.37548825, 0.47183168, 0.2791773 ],\n",
       "       [0.32137924, 0.46884874, 0.37270728, 0.4944839 , 0.28434092],\n",
       "       [0.34534717, 0.46806002, 0.39798564, 0.48463383, 0.32028013],\n",
       "       [0.34228027, 0.47139865, 0.39631835, 0.47976586, 0.31644672],\n",
       "       [0.3461008 , 0.46746236, 0.39700428, 0.48092085, 0.3203655 ],\n",
       "       [0.34896863, 0.469608  , 0.40220052, 0.47997028, 0.3263321 ],\n",
       "       [0.33213565, 0.47082117, 0.38432378, 0.49300432, 0.30099347],\n",
       "       [0.27670544, 0.47461626, 0.34867248, 0.4874862 , 0.24064067],\n",
       "       [0.3421474 , 0.46961027, 0.3955679 , 0.48042896, 0.31579858],\n",
       "       [0.33734977, 0.47236443, 0.38900623, 0.49113724, 0.3076759 ],\n",
       "       [0.32364857, 0.46154964, 0.37101993, 0.49698263, 0.2844348 ],\n",
       "       [0.31152433, 0.47511074, 0.3710642 , 0.48956704, 0.27709085],\n",
       "       [0.32348454, 0.47233084, 0.37784624, 0.49144292, 0.28970313],\n",
       "       [0.31327727, 0.4721931 , 0.37965187, 0.4722926 , 0.2861535 ],\n",
       "       [0.32923055, 0.47163406, 0.3805629 , 0.4928941 , 0.2949233 ],\n",
       "       [0.31422082, 0.47327605, 0.37440524, 0.48800507, 0.28206408]],\n",
       "      dtype=float32)"
      ]
     },
     "execution_count": 27,
     "metadata": {},
     "output_type": "execute_result"
    }
   ],
   "source": [
    "predictions"
   ]
  }
 ],
 "metadata": {
  "kernelspec": {
   "display_name": "Python 3",
   "language": "python",
   "name": "python3"
  },
  "language_info": {
   "codemirror_mode": {
    "name": "ipython",
    "version": 3
   },
   "file_extension": ".py",
   "mimetype": "text/x-python",
   "name": "python",
   "nbconvert_exporter": "python",
   "pygments_lexer": "ipython3",
   "version": "3.7.3"
  }
 },
 "nbformat": 4,
 "nbformat_minor": 2
}
